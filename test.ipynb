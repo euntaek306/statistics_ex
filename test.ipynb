{
 "cells": [
  {
   "cell_type": "markdown",
   "id": "a10e294d-644e-4d88-b21b-26e8fa84a065",
   "metadata": {},
   "source": [
    "#주피터 노트북 테스트"
   ]
  },
  {
   "cell_type": "code",
   "execution_count": 1,
   "id": "c4fa6b00-0520-43a6-bedf-f141548d48be",
   "metadata": {},
   "outputs": [
    {
     "name": "stdout",
     "output_type": "stream",
     "text": [
      "헬로\n"
     ]
    }
   ],
   "source": [
    "print(\"헬로\")"
   ]
  },
  {
   "cell_type": "code",
   "execution_count": null,
   "id": "fd517a71-b10b-4c1c-bd35-9f264838c967",
   "metadata": {},
   "outputs": [],
   "source": []
  }
 ],
 "metadata": {
  "kernelspec": {
   "display_name": "eda_env",
   "language": "python",
   "name": "eda_env"
  },
  "language_info": {
   "codemirror_mode": {
    "name": "ipython",
    "version": 3
   },
   "file_extension": ".py",
   "mimetype": "text/x-python",
   "name": "python",
   "nbconvert_exporter": "python",
   "pygments_lexer": "ipython3",
   "version": "3.10.18"
  }
 },
 "nbformat": 4,
 "nbformat_minor": 5
}

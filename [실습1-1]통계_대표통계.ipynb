{
 "cells": [
  {
   "cell_type": "markdown",
   "id": "ff2071c5-a409-4bb6-947a-aadaa1485cae",
   "metadata": {},
   "source": [
    "# 대표 통계량"
   ]
  },
  {
   "cell_type": "code",
   "execution_count": 3,
   "id": "21e191b9-6af7-487b-9ed4-ee0d40894e5a",
   "metadata": {},
   "outputs": [],
   "source": [
    "import numpy as np\n",
    "from scipy import stats\n",
    "import pandas as pd"
   ]
  },
  {
   "cell_type": "markdown",
   "id": "3c5bf015-805d-4492-878d-7e3cd1c31225",
   "metadata": {},
   "source": [
    "## 산술평균 계산"
   ]
  },
  {
   "cell_type": "code",
   "execution_count": 10,
   "id": "4d7ca5de-7c56-425f-aad8-66a22527000d",
   "metadata": {},
   "outputs": [
    {
     "name": "stdout",
     "output_type": "stream",
     "text": [
      "64.0\n"
     ]
    }
   ],
   "source": [
    "# 성적 평균 구하기\n",
    "x = [70, 60, 80, 60, 50]\n",
    "# sum(x)/len(x)\n",
    "# np.sum(x)/len(x)\n",
    "# print(np.array(x).mean())\n",
    "print(pd.Series(x).mean())"
   ]
  },
  {
   "cell_type": "markdown",
   "id": "b79670a3-91c0-4567-a8fc-6abf33f8a992",
   "metadata": {},
   "source": [
    "## 조화평균 구하기"
   ]
  },
  {
   "cell_type": "code",
   "execution_count": 14,
   "id": "2bff8434-596d-4541-8416-3ad460577907",
   "metadata": {},
   "outputs": [
    {
     "name": "stdout",
     "output_type": "stream",
     "text": [
      "40.0\n",
      "40.0\n",
      "40.0\n"
     ]
    }
   ],
   "source": [
    "# 상황: 두 생산 라인이 동일한 수의 제품(작업량)을 생산하지만, \n",
    "# 각 라인의 처리 속도가 다를 때 평균 처리 속도를 계산하기\n",
    "\n",
    "# 라인 A: 60개/시간, 라인 B: 30개/시간  → \n",
    "# 동일 작업량(120개 제품 생산) 처리 시 평균 처리속도\n",
    "\n",
    "x = np.array([60, 30])\n",
    "print(len(x)/(1/60 + 1/30))\n",
    "print(len(x) / np.sum(1/x))\n",
    "print(stats.hmean(x))"
   ]
  },
  {
   "cell_type": "markdown",
   "id": "9afc8801-badc-46da-90ff-be099d20ab5d",
   "metadata": {},
   "source": [
    "## 절사평균 계산"
   ]
  },
  {
   "cell_type": "code",
   "execution_count": 60,
   "id": "dfcc6b14-78e0-4009-98b7-549fb3cf8882",
   "metadata": {},
   "outputs": [
    {
     "name": "stdout",
     "output_type": "stream",
     "text": [
      "2921386.15\n",
      "12793451.64\n"
     ]
    }
   ],
   "source": [
    "# 월 평균이 3백만원이고 표준편차가 50만원인 정규 분포를 따르는 소득을 갖는 100명 생성\n",
    "income = np.random.normal(3000000, 500000, 100) \n",
    "print(round(np.mean(income), 2))\n",
    "\n",
    "# 월 소득이 1억원인 사람의 등장\n",
    "# 100명의 소득이 300만원에 가까운데, 한 명 때문에 대표값인 평균이 약 1300만원에 달함\n",
    "\n",
    "income = np.append(income, 10**9)\n",
    "# print(round(np.mean(income), 2)\n",
    "stats.trim_mean(income, 0.2)\n",
    "print(round(np.mean(income), 2))"
   ]
  },
  {
   "cell_type": "markdown",
   "id": "c293bdf4-f2e5-44d6-8e0f-3d2fa1a68ce2",
   "metadata": {},
   "source": [
    "## 최빈값 계산"
   ]
  },
  {
   "cell_type": "code",
   "execution_count": 45,
   "id": "accd901f-d92d-4ee2-b6ce-85e10162cd0f",
   "metadata": {},
   "outputs": [
    {
     "data": {
      "text/plain": [
       "1000"
      ]
     },
     "execution_count": 45,
     "metadata": {},
     "output_type": "execute_result"
    }
   ],
   "source": [
    "x = np.random.choice(['A', 'B', 'C'], 1000)\n",
    "x[:5]\n",
    "len(x)"
   ]
  },
  {
   "cell_type": "code",
   "execution_count": 51,
   "id": "3a27c977-7878-4057-baf4-ceb2616705d1",
   "metadata": {},
   "outputs": [
    {
     "data": {
      "text/plain": [
       "array(['A', 'B', 'C'], dtype='<U1')"
      ]
     },
     "execution_count": 51,
     "metadata": {},
     "output_type": "execute_result"
    }
   ],
   "source": [
    "np.unique(x)"
   ]
  },
  {
   "cell_type": "code",
   "execution_count": 53,
   "id": "91e63ef1-bd87-4022-8d54-49a9b7ffe55b",
   "metadata": {},
   "outputs": [
    {
     "data": {
      "text/plain": [
       "B    355\n",
       "A    330\n",
       "C    315\n",
       "Name: count, dtype: int64"
      ]
     },
     "execution_count": 53,
     "metadata": {},
     "output_type": "execute_result"
    }
   ],
   "source": [
    "pd.Series(x).value_counts()"
   ]
  },
  {
   "cell_type": "code",
   "execution_count": 48,
   "id": "028f8c98-462b-487f-807a-e6419e715d64",
   "metadata": {},
   "outputs": [
    {
     "data": {
      "text/plain": [
       "'B'"
      ]
     },
     "execution_count": 48,
     "metadata": {},
     "output_type": "execute_result"
    }
   ],
   "source": [
    "pd.Series(x).value_counts().index[0]"
   ]
  },
  {
   "cell_type": "code",
   "execution_count": 58,
   "id": "6fbe1467-c14b-4051-b097-23b9bb3bd429",
   "metadata": {},
   "outputs": [
    {
     "name": "stdout",
     "output_type": "stream",
     "text": [
      "최빈값 : B, 최빈갯수 : 355\n"
     ]
    }
   ],
   "source": [
    "# python collections 사용\n",
    "from collections import Counter\n",
    "# print(dict(Counter(x)))\n",
    "counter = Counter(x)\n",
    "mode_value, mode_cnt = counter.most_common(1)[0]\n",
    "# mode_value, mode_cnt\n",
    "print(f\"최빈값 : {mode_value}, 최빈갯수 : {mode_cnt}\")"
   ]
  },
  {
   "cell_type": "markdown",
   "id": "9b3f1084-9c49-4382-92f5-d6f5b204c7ed",
   "metadata": {},
   "source": [
    "# 데이터의 대표값"
   ]
  },
  {
   "cell_type": "code",
   "execution_count": 61,
   "id": "270416c0-56c7-4e9c-b4a0-ffac09aa3a9c",
   "metadata": {},
   "outputs": [],
   "source": [
    "# 평균, 중앙값, 최빈값 구하기"
   ]
  },
  {
   "cell_type": "code",
   "execution_count": 90,
   "id": "92cfdd03-eb1b-43f8-9f1a-71173dedc34f",
   "metadata": {},
   "outputs": [
    {
     "data": {
      "text/plain": [
       "array([0, 2, 0, 0, 3, 4, 1, 1, 4, 3], dtype=int32)"
      ]
     },
     "execution_count": 90,
     "metadata": {},
     "output_type": "execute_result"
    }
   ],
   "source": [
    "# 데이터 생성\n",
    "np.random.seed(2024)\n",
    "data = np.random.randint(0, 5, 10)\n",
    "data"
   ]
  },
  {
   "cell_type": "code",
   "execution_count": 91,
   "id": "cbc2dd57-e157-4b2a-a645-66553d92b02b",
   "metadata": {},
   "outputs": [
    {
     "data": {
      "text/plain": [
       "array([0, 0, 0, 1, 1, 2, 3, 3, 4, 4], dtype=int32)"
      ]
     },
     "execution_count": 91,
     "metadata": {},
     "output_type": "execute_result"
    }
   ],
   "source": [
    "data.sort()\n",
    "data"
   ]
  },
  {
   "cell_type": "code",
   "execution_count": 92,
   "id": "157fb818-be07-4d69-b7a7-0cf34f562d6d",
   "metadata": {},
   "outputs": [
    {
     "data": {
      "text/plain": [
       "np.float64(1.5)"
      ]
     },
     "execution_count": 92,
     "metadata": {},
     "output_type": "execute_result"
    }
   ],
   "source": [
    "mean_val = np.mean(data)\n",
    "median_val = np.median(data)\n",
    "median_val"
   ]
  },
  {
   "cell_type": "code",
   "execution_count": null,
   "id": "df38353b-77a5-4263-b368-858556f221f0",
   "metadata": {},
   "outputs": [],
   "source": []
  },
  {
   "cell_type": "code",
   "execution_count": 96,
   "id": "a0aa1378-bf95-4206-8bbc-9b5ffa302ec2",
   "metadata": {},
   "outputs": [
    {
     "data": {
      "text/plain": [
       "ModeResult(mode=np.int32(0), count=np.int64(3))"
      ]
     },
     "execution_count": 96,
     "metadata": {},
     "output_type": "execute_result"
    }
   ],
   "source": [
    "mode_val = stats.mode(data)\n",
    "mode_val"
   ]
  },
  {
   "cell_type": "code",
   "execution_count": 99,
   "id": "bd759132-50c8-48d9-8ba6-1a38ebc74757",
   "metadata": {},
   "outputs": [
    {
     "name": "stdout",
     "output_type": "stream",
     "text": [
      "최빈값 : 0, 최빈 갯수3\n"
     ]
    }
   ],
   "source": [
    "print(f\"최빈값 : {mode_val.mode}, 최빈 갯수{mode_val.count}\")"
   ]
  },
  {
   "cell_type": "code",
   "execution_count": null,
   "id": "9d344d99-95ba-4a32-95cd-06329d6e734f",
   "metadata": {},
   "outputs": [],
   "source": []
  }
 ],
 "metadata": {
  "kernelspec": {
   "display_name": "eda_env",
   "language": "python",
   "name": "eda_env"
  },
  "language_info": {
   "codemirror_mode": {
    "name": "ipython",
    "version": 3
   },
   "file_extension": ".py",
   "mimetype": "text/x-python",
   "name": "python",
   "nbconvert_exporter": "python",
   "pygments_lexer": "ipython3",
   "version": "3.10.18"
  }
 },
 "nbformat": 4,
 "nbformat_minor": 5
}

{
 "cells": [
  {
   "cell_type": "markdown",
   "id": "22e71313-61cf-47c7-bb36-fbdc0d7e5203",
   "metadata": {
    "id": "22e71313-61cf-47c7-bb36-fbdc0d7e5203"
   },
   "source": [
    "# 단일 표본 t검정"
   ]
  },
  {
   "cell_type": "markdown",
   "id": "e4a8c809-ee67-44f8-983c-5d43bb533da6",
   "metadata": {
    "id": "e4a8c809-ee67-44f8-983c-5d43bb533da6"
   },
   "source": [
    "[문제]\n",
    "- 성인 여성 25명의 키 데이터\n",
    "- 평균, 표준편차 계산\n",
    "- ks-정규성 검정 실행\n",
    "- 임의의 어떤 값 163은 평균 값에 근사할까?"
   ]
  },
  {
   "cell_type": "code",
   "execution_count": 5,
   "id": "09a8c635-6bf1-4271-b72b-e11ec3cbf19e",
   "metadata": {
    "id": "09a8c635-6bf1-4271-b72b-e11ec3cbf19e",
    "outputId": "d5470ef1-e1d9-4dc1-f4ce-0d98ac4916fa"
   },
   "outputs": [
    {
     "name": "stdout",
     "output_type": "stream",
     "text": [
      "[150.27, 142.94, 160.99, 157.48, 153.46, 137.5, 154.94, 159.51, 171.87, 143.69, 153.65, 160.25, 153.07, 154.42, 141.21, 154.17, 162.56, 164.44, 172.36, 141.51, 169.4, 167.97, 170.26, 157.8, 167.61]\n",
      "25\n"
     ]
    }
   ],
   "source": [
    "# data 로딩\n",
    "with open(\"./datas2/성인여성_키_데이터.txt\", \"r\") as f:\n",
    "    data = f.read().split(\"\\n\")\n",
    "    data = map(float, data) #리스트 요소가 문자열 -> float로 바꿈\n",
    "    data = list(data)\n",
    "    print(data) # map 함수의 결과를 list로 형변화 ->출력\n",
    "    print(len(data))"
   ]
  },
  {
   "cell_type": "markdown",
   "id": "b30c2786-6e1c-42c7-bbb1-e6c2dac25f8c",
   "metadata": {
    "id": "hdnKvMI5mtQb"
   },
   "source": [
    "- 데이터의 평균과 표준편차 구하기"
   ]
  },
  {
   "cell_type": "code",
   "execution_count": 49,
   "id": "7d130454-2fbb-4fa1-b39a-65b056aad9b4",
   "metadata": {
    "id": "7d130454-2fbb-4fa1-b39a-65b056aad9b4",
    "outputId": "2d505b75-b7d3-4ef7-928a-066f1deb9597"
   },
   "outputs": [
    {
     "data": {
      "text/plain": [
       "(np.float64(156.9332), np.float64(9.974187774450611))"
      ]
     },
     "execution_count": 49,
     "metadata": {},
     "output_type": "execute_result"
    }
   ],
   "source": [
    "import numpy as np\n",
    "# 평균\n",
    "mean_value = np.mean(data)\n",
    "# 표준편차\n",
    "std_dev = np.std(data, ddof=0) #모집단의 표준편차\n",
    "mean_value, std_dev"
   ]
  },
  {
   "cell_type": "markdown",
   "id": "c8fad8b3-8cb2-478d-8c1a-7295c86d50df",
   "metadata": {},
   "source": [
    "## 가설 설정\n",
    "[문제]\n",
    "\n",
    "- 귀무가설: 표본 데이터의 평균은 163과 같다.\n",
    "- 대립가설: 표본 데이터의 평균은 163과 다르다"
   ]
  },
  {
   "cell_type": "markdown",
   "id": "3256f668-f6de-427e-b855-df16451c051f",
   "metadata": {},
   "source": [
    "## 정규성 검정(ks-test)"
   ]
  },
  {
   "cell_type": "code",
   "execution_count": 53,
   "id": "8866b18e-1e14-4333-a137-71b5f1af4e19",
   "metadata": {},
   "outputs": [],
   "source": [
    "from scipy.stats import * #stats 모듈의 모든 내용을 로딩\n",
    "# from scipy import stats\n",
    "import numpy as np"
   ]
  },
  {
   "cell_type": "code",
   "execution_count": 54,
   "id": "01291336-a600-405f-ad63-4899c42c0689",
   "metadata": {},
   "outputs": [
    {
     "data": {
      "text/plain": [
       "(np.float64(0.10925974986314058), np.float64(0.8950958424230889))"
      ]
     },
     "execution_count": 54,
     "metadata": {},
     "output_type": "execute_result"
    }
   ],
   "source": [
    "# 정규성 검정 함수\n",
    "#  KS-test는 주어진 표본 데이터가 특정 이론적인 분포(예: 정규분포)를 따르는지 검정하는 방법\n",
    "# 'norm': 비교 대상이 되는 이론적인 분포를 지정 ('norm'은 정규분포)\n",
    "# args=(np.mean(data), np.std(data, ddof=0)): 표본 데이터의 평균과 표준편차를 사용하여 정규분포의 모수 설정\n",
    "ks_stats, p_value = kstest(data, 'norm', args=(mean_value, std_dev))\n",
    "ks_stats, p_value"
   ]
  },
  {
   "cell_type": "code",
   "execution_count": null,
   "id": "5dfa19a6-0ef2-4ca8-8bb2-d27d341a70d6",
   "metadata": {},
   "outputs": [],
   "source": []
  },
  {
   "cell_type": "markdown",
   "id": "f7ebf161-fa04-403e-b1e6-bf7e8505dc81",
   "metadata": {},
   "source": [
    "## 검정 하기"
   ]
  },
  {
   "cell_type": "code",
   "execution_count": 8,
   "id": "076e5824-4711-445e-9e2e-294704166561",
   "metadata": {},
   "outputs": [
    {
     "data": {
      "text/plain": [
       "TtestResult(statistic=np.float64(-2.979804412662668), pvalue=np.float64(0.006510445335847954), df=np.int64(24))"
      ]
     },
     "execution_count": 8,
     "metadata": {},
     "output_type": "execute_result"
    }
   ],
   "source": [
    "ttest_1samp(data, 163)"
   ]
  },
  {
   "cell_type": "markdown",
   "id": "a4ca0cf8-c083-4a99-af14-dc1bec820fc6",
   "metadata": {},
   "source": [
    "# 독립 표본 t 검정\n",
    "- 두 그룹 A, B의 차이를 검증할 때 사용하는 검증 방법"
   ]
  },
  {
   "cell_type": "markdown",
   "id": "cb64abd7-66cc-4d07-bd3d-304c8095dbe8",
   "metadata": {},
   "source": [
    "#문제 : A, B반의 점수 차이가 있는지 검증하기\n",
    "# [가설 설정]\n",
    "#H0 : A반과 B반의 평균은 같다.\n",
    "#H1 : A반과 B반의 평균은 다르다.\n"
   ]
  },
  {
   "cell_type": "code",
   "execution_count": 14,
   "id": "d220fd23-36e8-4240-b5a8-444882fad901",
   "metadata": {},
   "outputs": [],
   "source": [
    "import pandas as pd\n",
    "import numpy as np"
   ]
  },
  {
   "cell_type": "code",
   "execution_count": 18,
   "id": "88eae835-cb59-4fc2-a65f-2d0c95d06fbb",
   "metadata": {},
   "outputs": [
    {
     "data": {
      "text/html": [
       "<div>\n",
       "<style scoped>\n",
       "    .dataframe tbody tr th:only-of-type {\n",
       "        vertical-align: middle;\n",
       "    }\n",
       "\n",
       "    .dataframe tbody tr th {\n",
       "        vertical-align: top;\n",
       "    }\n",
       "\n",
       "    .dataframe thead th {\n",
       "        text-align: right;\n",
       "    }\n",
       "</style>\n",
       "<table border=\"1\" class=\"dataframe\">\n",
       "  <thead>\n",
       "    <tr style=\"text-align: right;\">\n",
       "      <th></th>\n",
       "      <th>반</th>\n",
       "      <th>점수</th>\n",
       "    </tr>\n",
       "  </thead>\n",
       "  <tbody>\n",
       "    <tr>\n",
       "      <th>25</th>\n",
       "      <td>B</td>\n",
       "      <td>77</td>\n",
       "    </tr>\n",
       "    <tr>\n",
       "      <th>26</th>\n",
       "      <td>B</td>\n",
       "      <td>75</td>\n",
       "    </tr>\n",
       "    <tr>\n",
       "      <th>27</th>\n",
       "      <td>B</td>\n",
       "      <td>65</td>\n",
       "    </tr>\n",
       "    <tr>\n",
       "      <th>28</th>\n",
       "      <td>B</td>\n",
       "      <td>61</td>\n",
       "    </tr>\n",
       "    <tr>\n",
       "      <th>29</th>\n",
       "      <td>B</td>\n",
       "      <td>55</td>\n",
       "    </tr>\n",
       "  </tbody>\n",
       "</table>\n",
       "</div>"
      ],
      "text/plain": [
       "    반  점수\n",
       "25  B  77\n",
       "26  B  75\n",
       "27  B  65\n",
       "28  B  61\n",
       "29  B  55"
      ]
     },
     "execution_count": 18,
     "metadata": {},
     "output_type": "execute_result"
    }
   ],
   "source": [
    "df1= pd.read_csv(\"./datas2/반별_점수_type1.csv\" , encoding=\"euc-kr\")\n",
    "df1. tail()"
   ]
  },
  {
   "cell_type": "code",
   "execution_count": 21,
   "id": "f8475056-bce9-48dd-bd5a-a57581810059",
   "metadata": {},
   "outputs": [
    {
     "data": {
      "text/plain": [
       "반\n",
       "A    20\n",
       "B    10\n",
       "Name: count, dtype: int64"
      ]
     },
     "execution_count": 21,
     "metadata": {},
     "output_type": "execute_result"
    }
   ],
   "source": [
    "#데이터프레임에서 반 컬럼의 유니크한 값의 갯수 확인\n",
    "df1['반'].value_counts()"
   ]
  },
  {
   "cell_type": "markdown",
   "id": "ee71aa98-7754-49bb-8f56-f48cebd932a7",
   "metadata": {},
   "source": [
    "### A반과 B반 데이터 분리하기"
   ]
  },
  {
   "cell_type": "code",
   "execution_count": 25,
   "id": "fb42ab25-885c-4a71-a0fb-5e3dcce701c6",
   "metadata": {},
   "outputs": [
    {
     "data": {
      "text/plain": [
       "20"
      ]
     },
     "execution_count": 25,
     "metadata": {},
     "output_type": "execute_result"
    }
   ],
   "source": [
    "#A반의 점수만 추출\n",
    "groupA = df1['점수'].loc[df1['반']=='A'].values\n",
    "len(groupA)"
   ]
  },
  {
   "cell_type": "code",
   "execution_count": 27,
   "id": "60f12dfc-e6c8-4526-b9d8-997bf8129616",
   "metadata": {},
   "outputs": [
    {
     "data": {
      "text/plain": [
       "10"
      ]
     },
     "execution_count": 27,
     "metadata": {},
     "output_type": "execute_result"
    }
   ],
   "source": [
    "#A반의 점수만 추출\n",
    "groupB = df1['점수'].loc[df1['반']=='B'].values\n",
    "len(groupB)"
   ]
  },
  {
   "cell_type": "code",
   "execution_count": 32,
   "id": "8929884e-3db6-468a-b4a1-6a73bc604cfe",
   "metadata": {},
   "outputs": [
    {
     "data": {
      "text/plain": [
       "(np.float64(70.55), np.float64(5.67983506061483))"
      ]
     },
     "execution_count": 32,
     "metadata": {},
     "output_type": "execute_result"
    }
   ],
   "source": [
    "meanA = np.mean(groupA)\n",
    "stdA = np.std(groupA, ddof=1)\n",
    "meanA, stdA"
   ]
  },
  {
   "cell_type": "code",
   "execution_count": 33,
   "id": "30451ace-30a8-4174-96bb-9c18ceaba6e8",
   "metadata": {},
   "outputs": [
    {
     "data": {
      "text/plain": [
       "(np.float64(64.1), np.float64(8.279157230325104))"
      ]
     },
     "execution_count": 33,
     "metadata": {},
     "output_type": "execute_result"
    }
   ],
   "source": [
    "meanB = np.mean(groupB)\n",
    "stdB = np.std(groupB, ddof=1)\n",
    "meanB, stdB"
   ]
  },
  {
   "cell_type": "code",
   "execution_count": 34,
   "id": "76099eeb-338e-4e30-b8ba-5775bab6ff37",
   "metadata": {},
   "outputs": [
    {
     "name": "stdout",
     "output_type": "stream",
     "text": [
      "A반 평균: 70.55, 표준 편차: 5.68\n",
      "B반 평균: 64.10, 표준 편차: 8.28\n"
     ]
    }
   ],
   "source": [
    "print(f\"A반 평균: {meanA:.2f}, 표준 편차: {stdA:.2f}\")\n",
    "print(f\"B반 평균: {meanB:.2f}, 표준 편차: {stdB:.2f}\")"
   ]
  },
  {
   "cell_type": "markdown",
   "id": "a93d4f71-56ea-43a3-88b7-85a981dfb116",
   "metadata": {
    "id": "a93d4f71-56ea-43a3-88b7-85a981dfb116"
   },
   "source": [
    "## 정규성 검정(ks-test)"
   ]
  },
  {
   "cell_type": "code",
   "execution_count": 45,
   "id": "6482f6b4-2917-4df3-b8c0-d5255b32be3a",
   "metadata": {},
   "outputs": [],
   "source": [
    "from scipy.stats import * #stats 모듈의 모든 내용을 로딩\n",
    "# from scipy import stats\n",
    "import numpy as np"
   ]
  },
  {
   "cell_type": "code",
   "execution_count": 58,
   "id": "76f36f71-f934-4afd-a2d8-8a4e319b86e4",
   "metadata": {},
   "outputs": [
    {
     "name": "stdout",
     "output_type": "stream",
     "text": [
      "KstestResult(statistic=np.float64(0.13310674849448567), pvalue=np.float64(0.8254564220619713), statistic_location=np.int64(73), statistic_sign=np.int8(1))\n",
      "KstestResult(statistic=np.float64(0.15881009358601705), pvalue=np.float64(0.9295432555006241), statistic_location=np.int64(73), statistic_sign=np.int8(-1))\n"
     ]
    }
   ],
   "source": [
    "# group_A와 group_B의 평균과 표준편차를 사용하여 정규성 검정 수행\n",
    "print(kstest(groupA, 'norm', args=(np.mean(groupA), np.std(groupA, ddof=1))))\n",
    "print(kstest(groupB, 'norm', args=(np.mean(groupB), np.std(groupB, ddof=1))))"
   ]
  },
  {
   "cell_type": "code",
   "execution_count": null,
   "id": "f4b229f0-8d92-4540-9ffc-74f064b46efc",
   "metadata": {},
   "outputs": [],
   "source": []
  },
  {
   "cell_type": "markdown",
   "id": "d7decfbf-fbee-45a3-84a9-a5dade168ab1",
   "metadata": {
    "id": "290a996c-6631-418e-bf37-159c86c50a4e"
   },
   "source": [
    "# 등분산 검정"
   ]
  },
  {
   "cell_type": "markdown",
   "id": "386258c4-45c5-492b-909e-0f8b3d4453dd",
   "metadata": {
    "id": "182672a2-cc15-431b-b912-a1e4f7a8a48f"
   },
   "source": [
    "- 그룹A와 그룹B가 같은 분산 인지 확인하기 위해 levene() 검정 사용"
   ]
  },
  {
   "cell_type": "code",
   "execution_count": 57,
   "id": "8eb552da-79d3-4a40-9055-5a6f4d45a0ea",
   "metadata": {
    "id": "8eb552da-79d3-4a40-9055-5a6f4d45a0ea"
   },
   "outputs": [
    {
     "data": {
      "text/plain": [
       "LeveneResult(statistic=np.float64(2.033067087400979), pvalue=np.float64(0.16496408622210104))"
      ]
     },
     "execution_count": 57,
     "metadata": {},
     "output_type": "execute_result"
    }
   ],
   "source": [
    "levene(groupA, groupB)"
   ]
  },
  {
   "cell_type": "code",
   "execution_count": 62,
   "id": "e9e63015-9f78-4734-899c-a89d3a14ca88",
   "metadata": {},
   "outputs": [
    {
     "data": {
      "text/plain": [
       "np.float64(32.26052631578948)"
      ]
     },
     "execution_count": 62,
     "metadata": {},
     "output_type": "execute_result"
    }
   ],
   "source": [
    "np.var(groupA, ddof=1)"
   ]
  },
  {
   "cell_type": "code",
   "execution_count": 64,
   "id": "d6b45f92-7734-4b35-8c33-aad071878ca1",
   "metadata": {},
   "outputs": [
    {
     "data": {
      "text/plain": [
       "np.float64(68.54444444444445)"
      ]
     },
     "execution_count": 64,
     "metadata": {},
     "output_type": "execute_result"
    }
   ],
   "source": [
    "np.var(groupB, ddof=1)"
   ]
  },
  {
   "cell_type": "markdown",
   "id": "bd75f4d0-e0c6-446a-8a96-a777d842d4a9",
   "metadata": {},
   "source": []
  },
  {
   "cell_type": "markdown",
   "id": "d06a8ab5-9f40-4a1a-90e9-8040a8f07047",
   "metadata": {},
   "source": [
    "## 독립표본 t-검정 수행"
   ]
  },
  {
   "cell_type": "code",
   "execution_count": 69,
   "id": "543c11ed-f329-4c96-a5a1-6214b232cc83",
   "metadata": {},
   "outputs": [
    {
     "name": "stdout",
     "output_type": "stream",
     "text": [
      "TtestResult(statistic=np.float64(2.5128526794964134), pvalue=np.float64(0.01801095352893767), df=np.float64(28.0))\n"
     ]
    }
   ],
   "source": [
    "print(ttest_ind(groupA, groupB, equal_var = True)) "
   ]
  },
  {
   "cell_type": "code",
   "execution_count": null,
   "id": "42b5375b-f284-4844-961e-af72852a9c1f",
   "metadata": {},
   "outputs": [],
   "source": []
  }
 ],
 "metadata": {
  "colab": {
   "provenance": []
  },
  "kernelspec": {
   "display_name": "eda_env",
   "language": "python",
   "name": "eda_env"
  },
  "language_info": {
   "codemirror_mode": {
    "name": "ipython",
    "version": 3
   },
   "file_extension": ".py",
   "mimetype": "text/x-python",
   "name": "python",
   "nbconvert_exporter": "python",
   "pygments_lexer": "ipython3",
   "version": "3.10.18"
  }
 },
 "nbformat": 4,
 "nbformat_minor": 5
}

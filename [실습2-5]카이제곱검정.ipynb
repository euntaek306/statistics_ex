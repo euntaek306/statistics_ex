{
 "cells": [
  {
   "cell_type": "markdown",
   "id": "2695b30d-fd17-4e40-a613-4cce46981754",
   "metadata": {},
   "source": [
    "# 카이제곱 교차검증\n",
    "- 두 범주형 변수가 서로 독립적인지 검정"
   ]
  },
  {
   "cell_type": "code",
   "execution_count": 1,
   "id": "e82c065f-7b13-4257-aa1d-f323ba26f8d5",
   "metadata": {},
   "outputs": [],
   "source": [
    "import pandas as pd"
   ]
  },
  {
   "cell_type": "markdown",
   "id": "7c12a3e8-c709-4d1b-b9af-de77687fa994",
   "metadata": {},
   "source": [
    "## 데이터 로딩"
   ]
  },
  {
   "cell_type": "code",
   "execution_count": 35,
   "id": "ea7814c8-2778-46e8-b5a5-fcf627ae5cca",
   "metadata": {},
   "outputs": [
    {
     "data": {
      "text/html": [
       "<div>\n",
       "<style scoped>\n",
       "    .dataframe tbody tr th:only-of-type {\n",
       "        vertical-align: middle;\n",
       "    }\n",
       "\n",
       "    .dataframe tbody tr th {\n",
       "        vertical-align: top;\n",
       "    }\n",
       "\n",
       "    .dataframe thead th {\n",
       "        text-align: right;\n",
       "    }\n",
       "</style>\n",
       "<table border=\"1\" class=\"dataframe\">\n",
       "  <thead>\n",
       "    <tr style=\"text-align: right;\">\n",
       "      <th></th>\n",
       "      <th>만족도</th>\n",
       "      <th>성별</th>\n",
       "    </tr>\n",
       "  </thead>\n",
       "  <tbody>\n",
       "    <tr>\n",
       "      <th>0</th>\n",
       "      <td>불만족</td>\n",
       "      <td>남성</td>\n",
       "    </tr>\n",
       "    <tr>\n",
       "      <th>1</th>\n",
       "      <td>보통</td>\n",
       "      <td>여성</td>\n",
       "    </tr>\n",
       "    <tr>\n",
       "      <th>2</th>\n",
       "      <td>불만족</td>\n",
       "      <td>여성</td>\n",
       "    </tr>\n",
       "    <tr>\n",
       "      <th>3</th>\n",
       "      <td>보통</td>\n",
       "      <td>남성</td>\n",
       "    </tr>\n",
       "    <tr>\n",
       "      <th>4</th>\n",
       "      <td>만족</td>\n",
       "      <td>여성</td>\n",
       "    </tr>\n",
       "  </tbody>\n",
       "</table>\n",
       "</div>"
      ],
      "text/plain": [
       "   만족도  성별\n",
       "0  불만족  남성\n",
       "1   보통  여성\n",
       "2  불만족  여성\n",
       "3   보통  남성\n",
       "4   만족  여성"
      ]
     },
     "execution_count": 35,
     "metadata": {},
     "output_type": "execute_result"
    }
   ],
   "source": [
    "df = pd.read_csv(\"datas2/성별에따른만족도.csv\", encoding = 'euc-kr')\n",
    "df.head()"
   ]
  },
  {
   "cell_type": "markdown",
   "id": "a1bd1f98-4a39-4a42-8767-9fd061627f55",
   "metadata": {},
   "source": [
    "## 실제값 교차 테이블 생성"
   ]
  },
  {
   "cell_type": "code",
   "execution_count": 36,
   "id": "d20f55e2-5adf-4ce3-90ab-a9309a1c8bc7",
   "metadata": {},
   "outputs": [],
   "source": [
    "cross_table = pd.crosstab(df['성별'], df['만족도'])"
   ]
  },
  {
   "cell_type": "code",
   "execution_count": 37,
   "id": "cc27032e-0534-4d81-b99c-747c8297d353",
   "metadata": {},
   "outputs": [
    {
     "data": {
      "text/html": [
       "<div>\n",
       "<style scoped>\n",
       "    .dataframe tbody tr th:only-of-type {\n",
       "        vertical-align: middle;\n",
       "    }\n",
       "\n",
       "    .dataframe tbody tr th {\n",
       "        vertical-align: top;\n",
       "    }\n",
       "\n",
       "    .dataframe thead th {\n",
       "        text-align: right;\n",
       "    }\n",
       "</style>\n",
       "<table border=\"1\" class=\"dataframe\">\n",
       "  <thead>\n",
       "    <tr style=\"text-align: right;\">\n",
       "      <th>만족도</th>\n",
       "      <th>만족</th>\n",
       "      <th>보통</th>\n",
       "      <th>불만족</th>\n",
       "    </tr>\n",
       "    <tr>\n",
       "      <th>성별</th>\n",
       "      <th></th>\n",
       "      <th></th>\n",
       "      <th></th>\n",
       "    </tr>\n",
       "  </thead>\n",
       "  <tbody>\n",
       "    <tr>\n",
       "      <th>남성</th>\n",
       "      <td>50</td>\n",
       "      <td>40</td>\n",
       "      <td>10</td>\n",
       "    </tr>\n",
       "    <tr>\n",
       "      <th>여성</th>\n",
       "      <td>40</td>\n",
       "      <td>30</td>\n",
       "      <td>30</td>\n",
       "    </tr>\n",
       "  </tbody>\n",
       "</table>\n",
       "</div>"
      ],
      "text/plain": [
       "만족도  만족  보통  불만족\n",
       "성별              \n",
       "남성   50  40   10\n",
       "여성   40  30   30"
      ]
     },
     "execution_count": 37,
     "metadata": {},
     "output_type": "execute_result"
    }
   ],
   "source": [
    "cross_table"
   ]
  },
  {
   "cell_type": "markdown",
   "id": "71808fef-42dc-4042-a779-6c6065897b61",
   "metadata": {},
   "source": [
    "## obs 데이터 추출"
   ]
  },
  {
   "cell_type": "code",
   "execution_count": 23,
   "id": "ca6ab270-8ae6-4ca9-bb30-32c04bd627c0",
   "metadata": {},
   "outputs": [
    {
     "data": {
      "text/plain": [
       "array([[50, 40, 10],\n",
       "       [40, 30, 30]])"
      ]
     },
     "execution_count": 23,
     "metadata": {},
     "output_type": "execute_result"
    }
   ],
   "source": [
    "# 크로스테이블의 값만 추출함 -> numpy 객체\n",
    "# observed\n",
    "obs = cross_table.values\n",
    "obs"
   ]
  },
  {
   "cell_type": "code",
   "execution_count": 26,
   "id": "15a6d528-fe75-4142-b15c-222bb2ff572e",
   "metadata": {},
   "outputs": [],
   "source": [
    "from scipy import stats as st\n",
    "statistic, pvalue, dof, expected_freq = st.chi2_contingency(obs)"
   ]
  },
  {
   "cell_type": "code",
   "execution_count": null,
   "id": "b0d7892c-162c-4f46-8de5-022c7a352124",
   "metadata": {},
   "outputs": [],
   "source": []
  },
  {
   "cell_type": "code",
   "execution_count": 30,
   "id": "f424dd30-63c9-4695-97cb-5f698246cdc8",
   "metadata": {},
   "outputs": [
    {
     "data": {
      "text/plain": [
       "array([[45., 35., 20.],\n",
       "       [45., 35., 20.]])"
      ]
     },
     "execution_count": 30,
     "metadata": {},
     "output_type": "execute_result"
    }
   ],
   "source": [
    "results = st.chi2_contingency(obs)\n",
    "results.expected_freq"
   ]
  },
  {
   "cell_type": "markdown",
   "id": "2a0f4bb5-2d4d-48e6-a8e0-f40c41959b6c",
   "metadata": {},
   "source": [
    "## 기대값 확인\n",
    "- 데이터 프레임으로 만들기"
   ]
  },
  {
   "cell_type": "code",
   "execution_count": 38,
   "id": "bee1c717-70df-4905-9da1-78e7f446eb57",
   "metadata": {},
   "outputs": [
    {
     "data": {
      "text/html": [
       "<div>\n",
       "<style scoped>\n",
       "    .dataframe tbody tr th:only-of-type {\n",
       "        vertical-align: middle;\n",
       "    }\n",
       "\n",
       "    .dataframe tbody tr th {\n",
       "        vertical-align: top;\n",
       "    }\n",
       "\n",
       "    .dataframe thead th {\n",
       "        text-align: right;\n",
       "    }\n",
       "</style>\n",
       "<table border=\"1\" class=\"dataframe\">\n",
       "  <thead>\n",
       "    <tr style=\"text-align: right;\">\n",
       "      <th>만족도</th>\n",
       "      <th>만족</th>\n",
       "      <th>보통</th>\n",
       "      <th>불만족</th>\n",
       "    </tr>\n",
       "    <tr>\n",
       "      <th>성별</th>\n",
       "      <th></th>\n",
       "      <th></th>\n",
       "      <th></th>\n",
       "    </tr>\n",
       "  </thead>\n",
       "  <tbody>\n",
       "    <tr>\n",
       "      <th>남성</th>\n",
       "      <td>50</td>\n",
       "      <td>40</td>\n",
       "      <td>10</td>\n",
       "    </tr>\n",
       "    <tr>\n",
       "      <th>여성</th>\n",
       "      <td>40</td>\n",
       "      <td>30</td>\n",
       "      <td>30</td>\n",
       "    </tr>\n",
       "  </tbody>\n",
       "</table>\n",
       "</div>"
      ],
      "text/plain": [
       "만족도  만족  보통  불만족\n",
       "성별              \n",
       "남성   50  40   10\n",
       "여성   40  30   30"
      ]
     },
     "execution_count": 38,
     "metadata": {},
     "output_type": "execute_result"
    }
   ],
   "source": [
    "cross_table.head()"
   ]
  },
  {
   "cell_type": "code",
   "execution_count": 41,
   "id": "74c9bb40-c9ce-48d9-a7cf-087b59293605",
   "metadata": {},
   "outputs": [
    {
     "data": {
      "text/plain": [
       "array([[45., 35., 20.],\n",
       "       [45., 35., 20.]])"
      ]
     },
     "execution_count": 41,
     "metadata": {},
     "output_type": "execute_result"
    }
   ],
   "source": [
    "expected_freq"
   ]
  },
  {
   "cell_type": "code",
   "execution_count": 43,
   "id": "ec347399-412f-4e06-8905-f30f2d1abf05",
   "metadata": {},
   "outputs": [
    {
     "data": {
      "text/html": [
       "<div>\n",
       "<style scoped>\n",
       "    .dataframe tbody tr th:only-of-type {\n",
       "        vertical-align: middle;\n",
       "    }\n",
       "\n",
       "    .dataframe tbody tr th {\n",
       "        vertical-align: top;\n",
       "    }\n",
       "\n",
       "    .dataframe thead th {\n",
       "        text-align: right;\n",
       "    }\n",
       "</style>\n",
       "<table border=\"1\" class=\"dataframe\">\n",
       "  <thead>\n",
       "    <tr style=\"text-align: right;\">\n",
       "      <th>만족도</th>\n",
       "      <th>만족</th>\n",
       "      <th>보통</th>\n",
       "      <th>불만족</th>\n",
       "    </tr>\n",
       "    <tr>\n",
       "      <th>성별</th>\n",
       "      <th></th>\n",
       "      <th></th>\n",
       "      <th></th>\n",
       "    </tr>\n",
       "  </thead>\n",
       "  <tbody>\n",
       "    <tr>\n",
       "      <th>남성</th>\n",
       "      <td>45.0</td>\n",
       "      <td>35.0</td>\n",
       "      <td>20.0</td>\n",
       "    </tr>\n",
       "    <tr>\n",
       "      <th>여성</th>\n",
       "      <td>45.0</td>\n",
       "      <td>35.0</td>\n",
       "      <td>20.0</td>\n",
       "    </tr>\n",
       "  </tbody>\n",
       "</table>\n",
       "</div>"
      ],
      "text/plain": [
       "만족도    만족    보통   불만족\n",
       "성별                   \n",
       "남성   45.0  35.0  20.0\n",
       "여성   45.0  35.0  20.0"
      ]
     },
     "execution_count": 43,
     "metadata": {},
     "output_type": "execute_result"
    }
   ],
   "source": [
    "expected_df = pd.DataFrame(expected_freq, index=cross_table.index, columns=cross_table.columns)\n",
    "expected_df"
   ]
  },
  {
   "cell_type": "code",
   "execution_count": null,
   "id": "b364d687-e5e0-4753-8501-525c50b0861f",
   "metadata": {},
   "outputs": [],
   "source": []
  }
 ],
 "metadata": {
  "kernelspec": {
   "display_name": "eda_env",
   "language": "python",
   "name": "eda_env"
  },
  "language_info": {
   "codemirror_mode": {
    "name": "ipython",
    "version": 3
   },
   "file_extension": ".py",
   "mimetype": "text/x-python",
   "name": "python",
   "nbconvert_exporter": "python",
   "pygments_lexer": "ipython3",
   "version": "3.10.18"
  }
 },
 "nbformat": 4,
 "nbformat_minor": 5
}

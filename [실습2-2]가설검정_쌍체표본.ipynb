{
 "cells": [
  {
   "cell_type": "markdown",
   "id": "5bc96ccf-36cf-4a79-b69c-942ab0400d60",
   "metadata": {},
   "source": [
    "# 쌍체표본 t-검정\n",
    "- t-test for paired(related) samples"
   ]
  },
  {
   "cell_type": "code",
   "execution_count": 1,
   "id": "3c767a15-789f-4fcf-9ffb-597fc8a9c32b",
   "metadata": {},
   "outputs": [],
   "source": [
    "import pandas as pd"
   ]
  },
  {
   "cell_type": "markdown",
   "id": "acaded1c-3ce9-45bb-8ed7-3e6046b04c4f",
   "metadata": {},
   "source": [
    "## 데이터 로딩"
   ]
  },
  {
   "cell_type": "code",
   "execution_count": 7,
   "id": "5c2dbb77-b780-4caf-8c4f-22091b75562d",
   "metadata": {},
   "outputs": [
    {
     "data": {
      "text/html": [
       "<div>\n",
       "<style scoped>\n",
       "    .dataframe tbody tr th:only-of-type {\n",
       "        vertical-align: middle;\n",
       "    }\n",
       "\n",
       "    .dataframe tbody tr th {\n",
       "        vertical-align: top;\n",
       "    }\n",
       "\n",
       "    .dataframe thead th {\n",
       "        text-align: right;\n",
       "    }\n",
       "</style>\n",
       "<table border=\"1\" class=\"dataframe\">\n",
       "  <thead>\n",
       "    <tr style=\"text-align: right;\">\n",
       "      <th></th>\n",
       "      <th>다이어트전(kg)</th>\n",
       "      <th>다이어트후(kg)</th>\n",
       "    </tr>\n",
       "  </thead>\n",
       "  <tbody>\n",
       "    <tr>\n",
       "      <th>0</th>\n",
       "      <td>87.41</td>\n",
       "      <td>88.30</td>\n",
       "    </tr>\n",
       "    <tr>\n",
       "      <th>1</th>\n",
       "      <td>81.05</td>\n",
       "      <td>76.21</td>\n",
       "    </tr>\n",
       "    <tr>\n",
       "      <th>2</th>\n",
       "      <td>60.72</td>\n",
       "      <td>53.34</td>\n",
       "    </tr>\n",
       "    <tr>\n",
       "      <th>3</th>\n",
       "      <td>81.02</td>\n",
       "      <td>78.21</td>\n",
       "    </tr>\n",
       "    <tr>\n",
       "      <th>4</th>\n",
       "      <td>75.75</td>\n",
       "      <td>76.74</td>\n",
       "    </tr>\n",
       "  </tbody>\n",
       "</table>\n",
       "</div>"
      ],
      "text/plain": [
       "   다이어트전(kg)  다이어트후(kg)\n",
       "0      87.41      88.30\n",
       "1      81.05      76.21\n",
       "2      60.72      53.34\n",
       "3      81.02      78.21\n",
       "4      75.75      76.74"
      ]
     },
     "execution_count": 7,
     "metadata": {},
     "output_type": "execute_result"
    }
   ],
   "source": [
    "data_file = \"다이어트약_효과검증.csv\"\n",
    "# 데이터 인코딩 방식 - 기본 : utf-8\n",
    "df = pd.read_csv(f\"datas2/{data_file}\")\n",
    "df.head()"
   ]
  },
  {
   "cell_type": "code",
   "execution_count": 8,
   "id": "3b9917b1-a14e-4b24-832a-bf2dbedfbd02",
   "metadata": {},
   "outputs": [
    {
     "data": {
      "text/plain": [
       "Index(['다이어트전(kg)', '다이어트후(kg)'], dtype='object')"
      ]
     },
     "execution_count": 8,
     "metadata": {},
     "output_type": "execute_result"
    }
   ],
   "source": [
    "df. columns"
   ]
  },
  {
   "cell_type": "markdown",
   "id": "10a9fdc4-d342-4e8f-9932-f0b9db6ff86c",
   "metadata": {},
   "source": [
    "## 데이터 전처리"
   ]
  },
  {
   "cell_type": "code",
   "execution_count": 12,
   "id": "178f2b76-d7de-424d-80cb-9248cefb6163",
   "metadata": {},
   "outputs": [
    {
     "data": {
      "text/plain": [
       "0    87.41\n",
       "1    81.05\n",
       "2    60.72\n",
       "3    81.02\n",
       "4    75.75\n",
       "Name: 다이어트전(kg), dtype: float64"
      ]
     },
     "execution_count": 12,
     "metadata": {},
     "output_type": "execute_result"
    }
   ],
   "source": [
    "# 다이어트전(kg)\n",
    "before = df['다이어트전(kg)']\n",
    "before.head()"
   ]
  },
  {
   "cell_type": "code",
   "execution_count": 13,
   "id": "07c915ba-4af5-4c82-9980-a44807a0ffa5",
   "metadata": {},
   "outputs": [
    {
     "data": {
      "text/plain": [
       "0    88.30\n",
       "1    76.21\n",
       "2    53.34\n",
       "3    78.21\n",
       "4    76.74\n",
       "Name: 다이어트후(kg), dtype: float64"
      ]
     },
     "execution_count": 13,
     "metadata": {},
     "output_type": "execute_result"
    }
   ],
   "source": [
    "# 다이어트후(kg)\n",
    "after = df['다이어트후(kg)']\n",
    "after.head()"
   ]
  },
  {
   "cell_type": "code",
   "execution_count": null,
   "id": "287153ef-13b5-4aca-ad74-0b0ec39babd2",
   "metadata": {},
   "outputs": [],
   "source": []
  },
  {
   "cell_type": "markdown",
   "id": "2166908d-1300-477f-b4be-4096b494ef2b",
   "metadata": {},
   "source": [
    "## 정규성 검정\n",
    "- before와 after의 차이(d)가 정규분포를 따르는지 판단하기"
   ]
  },
  {
   "cell_type": "code",
   "execution_count": 15,
   "id": "5baaa703-7738-4fb2-9070-24214b36b2ab",
   "metadata": {},
   "outputs": [],
   "source": [
    "from scipy import stats as st"
   ]
  },
  {
   "cell_type": "code",
   "execution_count": 19,
   "id": "dd5538f8-0314-4890-a215-5a445c77b142",
   "metadata": {},
   "outputs": [
    {
     "data": {
      "text/plain": [
       "ShapiroResult(statistic=np.float64(0.9724073061486513), pvalue=np.float64(0.2892093416018284))"
      ]
     },
     "execution_count": 19,
     "metadata": {},
     "output_type": "execute_result"
    }
   ],
   "source": [
    "#유의 사항, 실험 후 값 - 실험 전 값\n",
    "st.shapiro(after-before) "
   ]
  },
  {
   "cell_type": "markdown",
   "id": "93e41849-a094-4c4e-9739-c1da3df6d154",
   "metadata": {},
   "source": [
    "[해석]\n",
    "- p-value > 0.05 이므로, 정규분포를 따른다는 것을 알 수 있음."
   ]
  },
  {
   "cell_type": "markdown",
   "id": "53bc63f7-8fe3-4a85-bffd-b60cc18813a9",
   "metadata": {},
   "source": [
    "## 쌍체 표본 t검정 수행하기"
   ]
  },
  {
   "cell_type": "code",
   "execution_count": 20,
   "id": "59d9195d-1d75-4319-a44e-ec21c3cccbcd",
   "metadata": {},
   "outputs": [
    {
     "data": {
      "text/plain": [
       "TtestResult(statistic=np.float64(9.70596986565785), pvalue=np.float64(5.370404098342324e-13), df=np.int64(49))"
      ]
     },
     "execution_count": 20,
     "metadata": {},
     "output_type": "execute_result"
    }
   ],
   "source": [
    "stats.ttest_rel(before, after)"
   ]
  },
  {
   "cell_type": "code",
   "execution_count": null,
   "id": "70e61726-e243-412b-9f8d-16e92a3b94ba",
   "metadata": {},
   "outputs": [],
   "source": []
  },
  {
   "cell_type": "code",
   "execution_count": null,
   "id": "42abd191-e3fe-4545-a440-f0cedc72736c",
   "metadata": {},
   "outputs": [],
   "source": []
  }
 ],
 "metadata": {
  "kernelspec": {
   "display_name": "eda_env",
   "language": "python",
   "name": "eda_env"
  },
  "language_info": {
   "codemirror_mode": {
    "name": "ipython",
    "version": 3
   },
   "file_extension": ".py",
   "mimetype": "text/x-python",
   "name": "python",
   "nbconvert_exporter": "python",
   "pygments_lexer": "ipython3",
   "version": "3.10.18"
  }
 },
 "nbformat": 4,
 "nbformat_minor": 5
}

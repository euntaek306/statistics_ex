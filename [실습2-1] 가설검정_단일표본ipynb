{
 "cells": [
  {
   "cell_type": "markdown",
   "id": "22e71313-61cf-47c7-bb36-fbdc0d7e5203",
   "metadata": {},
   "source": [
    "# 단일 표본 t검정"
   ]
  },
  {
   "cell_type": "markdown",
   "id": "e4a8c809-ee67-44f8-983c-5d43bb533da6",
   "metadata": {},
   "source": [
    "[문제]\n",
    "- 성인 여성 30명의 키 데이터\n",
    "- 평균, 표준편차 계산\n",
    "- ks-정규성 검정 실행\n",
    "- 임의의 어떤 값 163은 평균 값에 근사할까?"
   ]
  },
  {
   "cell_type": "code",
   "execution_count": 6,
   "id": "09a8c635-6bf1-4271-b72b-e11ec3cbf19e",
   "metadata": {},
   "outputs": [
    {
     "name": "stdout",
     "output_type": "stream",
     "text": [
      "[150.27, 142.94, 160.99, 157.48, 153.46, 137.5, 154.94, 159.51, 171.87, 143.69, 153.65, 160.25, 153.07, 154.42, 141.21, 154.17, 162.56, 164.44, 172.36, 141.51, 169.4, 167.97, 170.26, 157.8, 167.61]\n",
      "25\n"
     ]
    }
   ],
   "source": [
    "# data 로딩\n",
    "with open(\"./datas2/성인여성_키_데이터.txt\", \"r\") as f:\n",
    "    data = f.read().split(\"\\n\")\n",
    "    data = map(float, data) #리스트 요소가 문자열 -> float로 바꿈\n",
    "    data = list(data)\n",
    "    print(data) # map 함수의 결과를 list로 형변화 ->출력\n",
    "    print(len(data))"
   ]
  },
  {
   "cell_type": "code",
   "execution_count": 8,
   "id": "7d130454-2fbb-4fa1-b39a-65b056aad9b4",
   "metadata": {},
   "outputs": [
    {
     "data": {
      "text/plain": [
       "(np.float64(156.9332), np.float64(9.974187774450611))"
      ]
     },
     "execution_count": 8,
     "metadata": {},
     "output_type": "execute_result"
    }
   ],
   "source": [
    "# 데이터의 평균과 표준편차 구하기\n",
    "import numpy as np\n",
    "# 평균\n",
    "mean_value = np.mean(data)\n",
    "# 표준편차\n",
    "std_dev = np.std(data, ddof=0) #모집단의 표준편차\n",
    "mean_value, std_dev"
   ]
  },
  {
   "cell_type": "markdown",
   "id": "a93d4f71-56ea-43a3-88b7-85a981dfb116",
   "metadata": {},
   "source": [
    "# 정규성 검정(ks-test)"
   ]
  },
  {
   "cell_type": "code",
   "execution_count": 16,
   "id": "95550008-0d71-4afe-a118-7fcb716a1871",
   "metadata": {},
   "outputs": [],
   "source": [
    "from scipy.stats import * #stats 모듈의 모든 내용을 로딩\n",
    "# from scipy import stats\n",
    "import numpy as np"
   ]
  },
  {
   "cell_type": "code",
   "execution_count": 19,
   "id": "3a69d225-8806-4457-b6c3-8744ffc0c92c",
   "metadata": {},
   "outputs": [
    {
     "data": {
      "text/plain": [
       "(np.float64(0.10925974986314058), np.float64(0.8950958424230889))"
      ]
     },
     "execution_count": 19,
     "metadata": {},
     "output_type": "execute_result"
    }
   ],
   "source": [
    "# 정규성 검정 함수\n",
    "ks_stats, p_value = kstest(data, 'norm', args=(mean_value, std_dev))\n",
    "ks_stats, p_value"
   ]
  },
  {
   "cell_type": "code",
   "execution_count": null,
   "id": "1a42f723-e6b1-41d5-95e1-25c2df5466aa",
   "metadata": {},
   "outputs": [],
   "source": []
  },
  {
   "cell_type": "code",
   "execution_count": null,
   "id": "ff11823d-b004-4941-bdbd-71b9b33716e5",
   "metadata": {},
   "outputs": [],
   "source": []
  },
  {
   "cell_type": "code",
   "execution_count": null,
   "id": "290a996c-6631-418e-bf37-159c86c50a4e",
   "metadata": {},
   "outputs": [],
   "source": []
  },
  {
   "cell_type": "code",
   "execution_count": null,
   "id": "182672a2-cc15-431b-b912-a1e4f7a8a48f",
   "metadata": {},
   "outputs": [],
   "source": []
  },
  {
   "cell_type": "code",
   "execution_count": null,
   "id": "8eb552da-79d3-4a40-9055-5a6f4d45a0ea",
   "metadata": {},
   "outputs": [],
   "source": []
  }
 ],
 "metadata": {
  "kernelspec": {
   "display_name": "eda_env",
   "language": "python",
   "name": "eda_env"
  },
  "language_info": {
   "codemirror_mode": {
    "name": "ipython",
    "version": 3
   },
   "file_extension": ".py",
   "mimetype": "text/x-python",
   "name": "python",
   "nbconvert_exporter": "python",
   "pygments_lexer": "ipython3",
   "version": "3.10.18"
  }
 },
 "nbformat": 4,
 "nbformat_minor": 5
}
